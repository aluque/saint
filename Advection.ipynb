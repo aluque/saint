{
 "cells": [
  {
   "cell_type": "markdown",
   "metadata": {},
   "source": [
    "#   Finite-volume solution of the advection equation\n",
    "In this exercise we solve numerically the *advection equation*.  We model the dynamics of a conserved one-dimensional fluid with density $u$ that is moving to the left with a constant velocity $c$.  The equation to solve is\n",
    "$$\n",
    "\\frac{\\partial u}{\\partial t} = -c\\frac{\\partial u}{\\partial x}.\n",
    "$$\n",
    "For conservative problems like this it is frequent to use the *Finite Volume* method where one divides his domain in finite cells $(x_{i-1/2}, x_{i+1/2})$.  Then we have approximate densities for each cell $U_i$ and fluxes $F_{i+1/2}$ at the boundaries.  A naive way to calculate fluxes at $x_{i+1/2}$ is to interpolate the densities within the two neighboring cells:\n",
    "$$\n",
    "    F_{i+1/2} = \\frac{1}{2} c (U_i + U_{i+1}).\n",
    "$$\n",
    "But we will see that this is problematic.\n"
   ]
  },
  {
   "cell_type": "markdown",
   "metadata": {},
   "source": [
    "## Implementation in pure python\n",
    "Our first implementation is in pure python and is slow and not parallel."
   ]
  },
  {
   "cell_type": "code",
   "execution_count": 1,
   "metadata": {
    "collapsed": false
   },
   "outputs": [],
   "source": [
    "# Import statements.\n",
    "%matplotlib inline\n",
    "%load_ext autoreload\n",
    "%autoreload 2\n",
    "import importlib\n",
    "import numpy as np\n",
    "import matplotlib.pyplot as plt"
   ]
  },
  {
   "cell_type": "code",
   "execution_count": 2,
   "metadata": {
    "collapsed": true
   },
   "outputs": [],
   "source": [
    "# Build the mesh.  First the boundaries and then the centers of the cells\n",
    "n = 500000\n",
    "l = 1.0\n",
    "xb = np.linspace(0, l, n + 1)\n",
    "xc = 0.5 * (xb[1:] + xb[:-1])\n",
    "dx = xb[1] - xb[0]"
   ]
  },
  {
   "cell_type": "code",
   "execution_count": 3,
   "metadata": {
    "collapsed": true
   },
   "outputs": [],
   "source": [
    "# Velocity of the fluid\n",
    "c = 1.0"
   ]
  },
  {
   "cell_type": "code",
   "execution_count": 4,
   "metadata": {
    "collapsed": false
   },
   "outputs": [
    {
     "data": {
      "text/plain": [
       "[<matplotlib.lines.Line2D at 0x1115f2668>]"
      ]
     },
     "execution_count": 4,
     "metadata": {},
     "output_type": "execute_result"
    },
    {
     "data": {
      "image/png": "[encoded data removed]",
      "text/plain": [
       "<matplotlib.figure.Figure at 0x110633240>"
      ]
     },
     "metadata": {},
     "output_type": "display_data"
    }
   ],
   "source": [
    "# Set initial condition\n",
    "width = 0.1\n",
    "u0 = np.exp(-(xc-l/2)**2/width**2)\n",
    "plt.plot(xc, u0)"
   ]
  },
  {
   "cell_type": "code",
   "execution_count": 5,
   "metadata": {
    "collapsed": true
   },
   "outputs": [],
   "source": [
    "def deriv_u_interp(u):\n",
    "    \"\"\"We define now a function that, given the densities, returns their time derivatives\"\"\"\n",
    "    # Compute fluxes\n",
    "    # We assume here that u has been extended with ghost cells\n",
    "    F = 0.5 * c * (u[1:]+u[:-1])\n",
    "    return -np.diff(F) / dx"
   ]
  },
  {
   "cell_type": "markdown",
   "metadata": {},
   "source": [
    "For the time marching we use here the simplest possible scheme: explicit or forward Euler.  In this scheme the solution at a time $t+\\Delta t$ is calculated from the solution at $t$ as \n",
    "$$\n",
    "u(t + \\Delta t) = u(t) + u'(t) \\Delta t\n",
    "$$\n",
    "Note that much better time-integration schemes exist, with a higher order of convergence. "
   ]
  },
  {
   "cell_type": "code",
   "execution_count": 6,
   "metadata": {
    "collapsed": true
   },
   "outputs": [],
   "source": [
    "# Fix the time discretization using the Courant-Friderichs-Levy (CFL) criterium\n",
    "dt = .2 * dx / c\n",
    "m = 1000"
   ]
  },
  {
   "cell_type": "code",
   "execution_count": 7,
   "metadata": {
    "collapsed": true
   },
   "outputs": [],
   "source": [
    "# Allocate space to save the solution\n",
    "# In Python and C/C++ memory strides are shorter for later dimensions.  In Fortran it's the opposite.\n",
    "u = np.zeros((m, n + 2))\n",
    "# Here u[i, j] and u[i, j+1] are adjacent in memory.  This organization is cache-friendly.\n",
    "# We use n + 2 cells to allow ghost cells for the boundary conditions."
   ]
  },
  {
   "cell_type": "code",
   "execution_count": 8,
   "metadata": {
    "collapsed": false
   },
   "outputs": [],
   "source": [
    "u[0, 1:-1] = u0"
   ]
  },
  {
   "cell_type": "code",
   "execution_count": 9,
   "metadata": {
    "collapsed": false
   },
   "outputs": [],
   "source": [
    "for j in range(1, m):\n",
    "    # Periodic b.c.\n",
    "    u[j - 1, 0] = u[j - 1, n]\n",
    "    u[j - 1, n + 1] = u[j - 1, 0]\n",
    "    \n",
    "    u[j, 1:-1] = u[j - 1, 1:-1] + dt * deriv_u_interp(u[j - 1, :])"
   ]
  },
  {
   "cell_type": "markdown",
   "metadata": {},
   "source": [
    "Already in the 100 initial timesteps we see problems"
   ]
  },
  {
   "cell_type": "code",
   "execution_count": 10,
   "metadata": {
    "collapsed": false
   },
   "outputs": [
    {
     "data": {
      "image/png": "[encoded data removed]",
      "text/plain": [
       "<matplotlib.figure.Figure at 0x111ed3470>"
      ]
     },
     "metadata": {},
     "output_type": "display_data"
    }
   ],
   "source": [
    "for j in range(0, 100, 10):\n",
    "    plt.plot(xc, u[j, 1:-1], c='k', alpha=0.5)"
   ]
  },
  {
   "cell_type": "markdown",
   "metadata": {},
   "source": [
    "Some oscillations appear around timestep 250"
   ]
  },
  {
   "cell_type": "code",
   "execution_count": 11,
   "metadata": {
    "collapsed": false
   },
   "outputs": [
    {
     "data": {
      "text/plain": [
       "[<matplotlib.lines.Line2D at 0x2056999e8>]"
      ]
     },
     "execution_count": 11,
     "metadata": {},
     "output_type": "execute_result"
    },
    {
     "data": {
      "image/png": "[encoded data removed]",
      "text/plain": [
       "<matplotlib.figure.Figure at 0x2056619b0>"
      ]
     },
     "metadata": {},
     "output_type": "display_data"
    }
   ],
   "source": [
    "plt.plot(xc, u[250, 1:-1])"
   ]
  },
  {
   "cell_type": "markdown",
   "metadata": {},
   "source": [
    "Even more oscillations at timestep 300"
   ]
  },
  {
   "cell_type": "code",
   "execution_count": 12,
   "metadata": {
    "collapsed": false
   },
   "outputs": [
    {
     "data": {
      "text/plain": [
       "[<matplotlib.lines.Line2D at 0x2020c09e8>]"
      ]
     },
     "execution_count": 12,
     "metadata": {},
     "output_type": "execute_result"
    },
    {
     "data": {
      "image/png": "[encoded data removed]",
      "text/plain": [
       "<matplotlib.figure.Figure at 0x2056752e8>"
      ]
     },
     "metadata": {},
     "output_type": "display_data"
    }
   ],
   "source": [
    "plt.plot(xc, u[300, 1:-1])"
   ]
  },
  {
   "cell_type": "markdown",
   "metadata": {},
   "source": [
    "These oscillations are a well-known problem of our discretization.  It's better if we assume that the fluxes are given only by the *upwind* cell.  In our case $c>0$ so the upwiind cell at $x_{i+1/2}$ is always cell $i$."
   ]
  },
  {
   "cell_type": "code",
   "execution_count": 13,
   "metadata": {
    "collapsed": true
   },
   "outputs": [],
   "source": [
    "def deriv_u_upwind(u):\n",
    "    \"\"\"We define now a function that, given the densities, returns their time derivatives\"\"\"\n",
    "    # Compute fluxes\n",
    "    # We assume here that u has been extended with ghost cells\n",
    "    F = c * u[:-1]\n",
    "    return -np.diff(F) / dx"
   ]
  },
  {
   "cell_type": "code",
   "execution_count": 14,
   "metadata": {
    "collapsed": false
   },
   "outputs": [
    {
     "name": "stdout",
     "output_type": "stream",
     "text": [
      "CPU times: user 3.33 s, sys: 15.4 ms, total: 3.35 s\n",
      "Wall time: 3.4 s\n"
     ]
    }
   ],
   "source": [
    "%%time\n",
    "for j in range(1, m):\n",
    "    # Periodic b.c.\n",
    "    u[j - 1, 0] = u[j - 1, n]\n",
    "    u[j - 1, n + 1] = u[j - 1, 0]\n",
    "    \n",
    "    u[j, 1:-1] = u[j - 1, 1:-1] + dt * deriv_u_upwind(u[j - 1, :])"
   ]
  },
  {
   "cell_type": "markdown",
   "metadata": {},
   "source": [
    "With the upwind scheme the oscillations dissapear but the solution is too diffusive (the neglected second order term adds a diffusion).  The solution is to use higher-order terms but to avoid the oscillations seen above one needs a *flux limiter.*  Unfortunately we do not have time here to discuss this."
   ]
  },
  {
   "cell_type": "code",
   "execution_count": 15,
   "metadata": {
    "collapsed": false
   },
   "outputs": [
    {
     "data": {
      "image/png": "[encoded data removed]",
      "text/plain": [
       "<matplotlib.figure.Figure at 0x1115b4c88>"
      ]
     },
     "metadata": {},
     "output_type": "display_data"
    }
   ],
   "source": [
    "for j in range(0, 500, 50):\n",
    "    plt.plot(xc, u[j, 1:-1], c='k', alpha=0.5)"
   ]
  },
  {
   "cell_type": "markdown",
   "metadata": {},
   "source": [
    "## Call Fortran through f2py\n",
    "We now implement the same algorithm but using Fortran.  It's easy to combine Fortran and Python thanks to the f2py utility.  We can do everything within this notebook but typically one would use separate files and edit them with a real syntax-aware editor (emacs, vim, SublimeText, Atom...)."
   ]
  },
  {
   "cell_type": "code",
   "execution_count": 16,
   "metadata": {
    "collapsed": false
   },
   "outputs": [
    {
     "name": "stdout",
     "output_type": "stream",
     "text": [
      "Overwriting advection.f90\n"
     ]
    }
   ],
   "source": [
    "%%file advection.f90\n",
    "module cmp\n",
    "contains\n",
    "  \n",
    "  subroutine deriv_u_upwind(dx, c, u, du)\n",
    "    double precision, intent(in) :: c, dx, u(:)\n",
    "    double precision, intent(out) :: du(:)\n",
    "    \n",
    "    double precision :: f(size(du) + 1)\n",
    "  \n",
    "    f(:) = c * u(1: size(u) - 1)\n",
    "    du(:) = -(f(2: size(f)) - f(1: size(f) - 1)) / dx\n",
    "  end subroutine deriv_u_upwind\n",
    "  \n",
    "  subroutine forward_euler_serial(dx, dt, c, u0, u, n, m)\n",
    "    ! Note the inverted order of dimensions\n",
    "    double precision, intent(in) :: dx, dt, c, u0(n)\n",
    "    double precision, intent(inout) :: u(n + 2, m)\n",
    "    integer, intent(in) :: n, m\n",
    "\n",
    "    !f2py integer intent(hide), depend(u) :: n=size(u,1)-2, m=size(u,2)\n",
    "\n",
    "    double precision :: du(n)\n",
    "  \n",
    "    u(2:size(u, 1) - 1, 1) = u0\n",
    "    do j = 2, m\n",
    "       ! Periodic b.c.\n",
    "       u(1, j - 1) = u(size(u, 1) - 1, j - 1)\n",
    "       u(size(u, 1), j - 1) = u(1, j - 1)\n",
    "\n",
    "       call deriv_u_upwind(dx, c, u(:, j - 1), du)\n",
    "       do i=2, size(u, 1) - 1\n",
    "          u(i, j) = u(i, j - 1) + dt * du(j - 1)\n",
    "       end do\n",
    "    end do\n",
    "  end subroutine forward_euler_serial\n",
    "\n",
    "  subroutine forward_euler_omp(dx, dt, c, u0, u, n, m)\n",
    "    ! Note the inverted order of dimensions\n",
    "    double precision, intent(in) :: dx, dt, c, u0(n)\n",
    "    double precision, intent(inout) :: u(n + 2, m)\n",
    "    integer, intent(in) :: n, m\n",
    "\n",
    "    !f2py integer intent(hide), depend(u) :: n=size(u,1)-2, m=size(u,2)\n",
    "\n",
    "    double precision :: du(n)\n",
    "  \n",
    "    u(2:size(u, 1) - 1, 1) = u0\n",
    "    do j = 2, m\n",
    "       ! Periodic b.c.\n",
    "       u(1, j - 1) = u(size(u, 1) - 1, j - 1)\n",
    "       u(size(u, 1), j - 1) = u(1, j - 1)\n",
    "\n",
    "       call deriv_u_upwind(dx, c, u(:, j - 1), du)\n",
    "       !$OMP PARALLEL DO \n",
    "       do i=2, size(u, 1) - 1\n",
    "          u(i, j) = u(i, j - 1) + dt * du(j - 1)\n",
    "       end do\n",
    "       !$OMP END PARALLEL DO\n",
    "    end do\n",
    "  end subroutine forward_euler_omp\n",
    "\n",
    "  subroutine forward_euler_vector(dx, dt, c, u0, u, n, m)\n",
    "    ! Note the inverted order of dimensions\n",
    "    double precision, intent(in) :: dx, dt, c, u0(n)\n",
    "    double precision, intent(inout) :: u(n + 2, m)\n",
    "    integer, intent(in) :: n, m\n",
    "\n",
    "    !f2py integer intent(hide), depend(u) :: n=size(u,1)-2, m=size(u,2)\n",
    "\n",
    "    double precision :: du(n)\n",
    "  \n",
    "    u(2:size(u, 1) - 1, 1) = u0\n",
    "    do j = 2, m\n",
    "       ! Periodic b.c.\n",
    "       u(1, j - 1) = u(size(u, 1) - 1, j - 1)\n",
    "       u(size(u, 1), j - 1) = u(1, j - 1)\n",
    "\n",
    "       call deriv_u_upwind(dx, c, u(:, j - 1), du)\n",
    "       u(2:size(u, 1) - 1, j) = u(2:size(u, 1) - 1, j - 1) + dt * du\n",
    "     \n",
    "    end do\n",
    "  end subroutine forward_euler_vector\n",
    "end module cmp"
   ]
  },
  {
   "cell_type": "code",
   "execution_count": 17,
   "metadata": {
    "collapsed": false
   },
   "outputs": [
    {
     "name": "stdout",
     "output_type": "stream",
     "text": [
      "\u001b[39mrunning build\u001b[0m\n",
      "\u001b[39mrunning config_cc\u001b[0m\n",
      "\u001b[39munifing config_cc, config, build_clib, build_ext, build commands --compiler options\u001b[0m\n",
      "\u001b[39mrunning config_fc\u001b[0m\n",
      "\u001b[39munifing config_fc, config, build_clib, build_ext, build commands --fcompiler options\u001b[0m\n",
      "\u001b[39mrunning build_src\u001b[0m\n",
      "\u001b[39mbuild_src\u001b[0m\n",
      "\u001b[39mbuilding extension \"advection\" sources\u001b[0m\n",
      "\u001b[39mf2py options: []\u001b[0m\n",
      "\u001b[39mf2py:> /var/folders/gy/jzn_973j06d35km7sz1xfw8r0000gn/T/tmpsyy6kvac/src.macosx-10.11-x86_64-3.4/advectionmodule.c\u001b[0m\n",
      "\u001b[39mcreating /var/folders/gy/jzn_973j06d35km7sz1xfw8r0000gn/T/tmpsyy6kvac/src.macosx-10.11-x86_64-3.4\u001b[0m\n",
      "Reading fortran codes...\n",
      "\tReading file 'advection.f90' (format:free)\n",
      "Post-processing...\n",
      "\tBlock: advection\n",
      "\t\t\tBlock: cmp\n",
      "\t\t\t\tBlock: deriv_u_upwind\n",
      "\t\t\t\tBlock: forward_euler_serial\n",
      "\t\t\t\tBlock: forward_euler_omp\n",
      "\t\t\t\tBlock: forward_euler_vector\n",
      "Post-processing (stage 2)...\n",
      "\tBlock: advection\n",
      "\t\tBlock: unknown_interface\n",
      "\t\t\tBlock: cmp\n",
      "\t\t\t\tBlock: deriv_u_upwind\n",
      "\t\t\t\tBlock: forward_euler_serial\n",
      "\t\t\t\tBlock: forward_euler_omp\n",
      "\t\t\t\tBlock: forward_euler_vector\n",
      "Building modules...\n",
      "\tBuilding module \"advection\"...\n",
      "\t\tConstructing F90 module support for \"cmp\"...\n",
      "\t\tCreating wrapper for Fortran subroutine \"deriv_u_upwind\"(\"deriv_u_upwind\")...\n",
      "\t\t\tConstructing wrapper function \"cmp.deriv_u_upwind\"...\n",
      "\t\t\t  du = deriv_u_upwind(dx,c,u)\n",
      "\t\t\tConstructing wrapper function \"cmp.forward_euler_serial\"...\n",
      "\t\t\t  forward_euler_serial(dx,dt,c,u0,u)\n",
      "\t\t\tConstructing wrapper function \"cmp.forward_euler_omp\"...\n",
      "\t\t\t  forward_euler_omp(dx,dt,c,u0,u)\n",
      "\t\t\tConstructing wrapper function \"cmp.forward_euler_vector\"...\n",
      "\t\t\t  forward_euler_vector(dx,dt,c,u0,u)\n",
      "\tWrote C/API module \"advection\" to file \"/var/folders/gy/jzn_973j06d35km7sz1xfw8r0000gn/T/tmpsyy6kvac/src.macosx-10.11-x86_64-3.4/advectionmodule.c\"\n",
      "\tFortran 90 wrappers are saved to \"/var/folders/gy/jzn_973j06d35km7sz1xfw8r0000gn/T/tmpsyy6kvac/src.macosx-10.11-x86_64-3.4/advection-f2pywrappers2.f90\"\n",
      "\u001b[39m  adding '/var/folders/gy/jzn_973j06d35km7sz1xfw8r0000gn/T/tmpsyy6kvac/src.macosx-10.11-x86_64-3.4/fortranobject.c' to sources.\u001b[0m\n",
      "\u001b[39m  adding '/var/folders/gy/jzn_973j06d35km7sz1xfw8r0000gn/T/tmpsyy6kvac/src.macosx-10.11-x86_64-3.4' to include_dirs.\u001b[0m\n",
      "\u001b[39mcopying /opt/local/Library/Frameworks/Python.framework/Versions/3.4/lib/python3.4/site-packages/numpy/f2py/src/fortranobject.c -> /var/folders/gy/jzn_973j06d35km7sz1xfw8r0000gn/T/tmpsyy6kvac/src.macosx-10.11-x86_64-3.4\u001b[0m\n",
      "\u001b[39mcopying /opt/local/Library/Frameworks/Python.framework/Versions/3.4/lib/python3.4/site-packages/numpy/f2py/src/fortranobject.h -> /var/folders/gy/jzn_973j06d35km7sz1xfw8r0000gn/T/tmpsyy6kvac/src.macosx-10.11-x86_64-3.4\u001b[0m\n",
      "\u001b[39m  adding '/var/folders/gy/jzn_973j06d35km7sz1xfw8r0000gn/T/tmpsyy6kvac/src.macosx-10.11-x86_64-3.4/advection-f2pywrappers2.f90' to sources.\u001b[0m\n",
      "\u001b[39mbuild_src: building npy-pkg config files\u001b[0m\n",
      "\u001b[39mrunning build_ext\u001b[0m\n",
      "\u001b[39mcustomize UnixCCompiler\u001b[0m\n",
      "\u001b[39mcustomize UnixCCompiler using build_ext\u001b[0m\n",
      "\u001b[39mcustomize Gnu95FCompiler\u001b[0m\n",
      "\u001b[39mFound executable /opt/local/bin/gfortran\u001b[0m\n",
      "\u001b[39mcustomize Gnu95FCompiler\u001b[0m\n",
      "\u001b[39mcustomize Gnu95FCompiler using build_ext\u001b[0m\n",
      "\u001b[39mbuilding 'advection' extension\u001b[0m\n",
      "\u001b[39mcompiling C sources\u001b[0m\n",
      "\u001b[39mC compiler: /usr/bin/clang -Wno-unused-result -fno-common -dynamic -DNDEBUG -g -fwrapv -O3 -Wall -Wstrict-prototypes -isysroot / -pipe -Os\n",
      "\u001b[0m\n",
      "\u001b[39mcreating /var/folders/gy/jzn_973j06d35km7sz1xfw8r0000gn/T/tmpsyy6kvac/var\u001b[0m\n",
      "\u001b[39mcreating /var/folders/gy/jzn_973j06d35km7sz1xfw8r0000gn/T/tmpsyy6kvac/var/folders\u001b[0m\n",
      "\u001b[39mcreating /var/folders/gy/jzn_973j06d35km7sz1xfw8r0000gn/T/tmpsyy6kvac/var/folders/gy\u001b[0m\n",
      "\u001b[39mcreating /var/folders/gy/jzn_973j06d35km7sz1xfw8r0000gn/T/tmpsyy6kvac/var/folders/gy/jzn_973j06d35km7sz1xfw8r0000gn\u001b[0m\n",
      "\u001b[39mcreating /var/folders/gy/jzn_973j06d35km7sz1xfw8r0000gn/T/tmpsyy6kvac/var/folders/gy/jzn_973j06d35km7sz1xfw8r0000gn/T\u001b[0m\n",
      "\u001b[39mcreating /var/folders/gy/jzn_973j06d35km7sz1xfw8r0000gn/T/tmpsyy6kvac/var/folders/gy/jzn_973j06d35km7sz1xfw8r0000gn/T/tmpsyy6kvac\u001b[0m\n",
      "\u001b[39mcreating /var/folders/gy/jzn_973j06d35km7sz1xfw8r0000gn/T/tmpsyy6kvac/var/folders/gy/jzn_973j06d35km7sz1xfw8r0000gn/T/tmpsyy6kvac/src.macosx-10.11-x86_64-3.4\u001b[0m\n",
      "\u001b[39mcompile options: '-DF2PY_REPORT_ON_ARRAY_COPY -I/var/folders/gy/jzn_973j06d35km7sz1xfw8r0000gn/T/tmpsyy6kvac/src.macosx-10.11-x86_64-3.4 -I/opt/local/Library/Frameworks/Python.framework/Versions/3.4/lib/python3.4/site-packages/numpy/core/include -I/opt/local/Library/Frameworks/Python.framework/Versions/3.4/include/python3.4m -c'\u001b[0m\n",
      "\u001b[39mclang: /var/folders/gy/jzn_973j06d35km7sz1xfw8r0000gn/T/tmpsyy6kvac/src.macosx-10.11-x86_64-3.4/advectionmodule.c\u001b[0m\n",
      "In file included from /var/folders/gy/jzn_973j06d35km7sz1xfw8r0000gn/T/tmpsyy6kvac/src.macosx-10.11-x86_64-3.4/advectionmodule.c:19:\n",
      "In file included from /var/folders/gy/jzn_973j06d35km7sz1xfw8r0000gn/T/tmpsyy6kvac/src.macosx-10.11-x86_64-3.4/fortranobject.h:13:\n",
      "In file included from /opt/local/Library/Frameworks/Python.framework/Versions/3.4/lib/python3.4/site-packages/numpy/core/include/numpy/arrayobject.h:4:\n",
      "In file included from /opt/local/Library/Frameworks/Python.framework/Versions/3.4/lib/python3.4/site-packages/numpy/core/include/numpy/ndarrayobject.h:18:\n",
      "In file included from /opt/local/Library/Frameworks/Python.framework/Versions/3.4/lib/python3.4/site-packages/numpy/core/include/numpy/ndarraytypes.h:1809:\n",
      "/opt/local/Library/Frameworks/Python.framework/Versions/3.4/lib/python3.4/site-packages/numpy/core/include/numpy/npy_1_7_deprecated_api.h:15:2: warning: \"Using deprecated NumPy API, disable it by \"          \"#defining NPY_NO_DEPRECATED_API NPY_1_7_API_VERSION\" [-W#warnings]\n",
      "#warning \"Using deprecated NumPy API, disable it by \" \\\n",
      " ^\n",
      "1 warning generated.\n",
      "\u001b[39mclang: /var/folders/gy/jzn_973j06d35km7sz1xfw8r0000gn/T/tmpsyy6kvac/src.macosx-10.11-x86_64-3.4/fortranobject.c\u001b[0m\n",
      "In file included from /var/folders/gy/jzn_973j06d35km7sz1xfw8r0000gn/T/tmpsyy6kvac/src.macosx-10.11-x86_64-3.4/fortranobject.c:2:\n",
      "In file included from /var/folders/gy/jzn_973j06d35km7sz1xfw8r0000gn/T/tmpsyy6kvac/src.macosx-10.11-x86_64-3.4/fortranobject.h:13:\n",
      "In file included from /opt/local/Library/Frameworks/Python.framework/Versions/3.4/lib/python3.4/site-packages/numpy/core/include/numpy/arrayobject.h:4:\n",
      "In file included from /opt/local/Library/Frameworks/Python.framework/Versions/3.4/lib/python3.4/site-packages/numpy/core/include/numpy/ndarrayobject.h:18:\n",
      "In file included from /opt/local/Library/Frameworks/Python.framework/Versions/3.4/lib/python3.4/site-packages/numpy/core/include/numpy/ndarraytypes.h:1809:\n",
      "/opt/local/Library/Frameworks/Python.framework/Versions/3.4/lib/python3.4/site-packages/numpy/core/include/numpy/npy_1_7_deprecated_api.h:15:2: warning: \"Using deprecated NumPy API, disable it by \"          \"#defining NPY_NO_DEPRECATED_API NPY_1_7_API_VERSION\" [-W#warnings]\n",
      "#warning \"Using deprecated NumPy API, disable it by \" \\\n",
      " ^\n",
      "1 warning generated.\n",
      "\u001b[39mcompiling Fortran 90 module sources\u001b[0m\n",
      "\u001b[39mFortran f77 compiler: /opt/local/bin/gfortran -Wall -g -ffixed-form -fno-second-underscore -fPIC -O3 -funroll-loops\n",
      "Fortran f90 compiler: /opt/local/bin/gfortran -fopenmp -O3 -march=native -Wa,-q -fPIC -O3 -funroll-loops\n",
      "Fortran fix compiler: /opt/local/bin/gfortran -Wall -g -ffixed-form -fno-second-underscore -fopenmp -O3 -march=native -Wa,-q -fPIC -O3 -funroll-loops\u001b[0m\n",
      "\u001b[39mcompile options: '-DF2PY_REPORT_ON_ARRAY_COPY -I/var/folders/gy/jzn_973j06d35km7sz1xfw8r0000gn/T/tmpsyy6kvac/src.macosx-10.11-x86_64-3.4 -I/opt/local/Library/Frameworks/Python.framework/Versions/3.4/lib/python3.4/site-packages/numpy/core/include -I/opt/local/Library/Frameworks/Python.framework/Versions/3.4/include/python3.4m -c'\n",
      "extra options: '-J/var/folders/gy/jzn_973j06d35km7sz1xfw8r0000gn/T/tmpsyy6kvac/ -I/var/folders/gy/jzn_973j06d35km7sz1xfw8r0000gn/T/tmpsyy6kvac/'\u001b[0m\n",
      "\u001b[39mgfortran:f90: advection.f90\u001b[0m\n",
      "\u001b[39mcompiling Fortran sources\u001b[0m\n",
      "\u001b[39mFortran f77 compiler: /opt/local/bin/gfortran -Wall -g -ffixed-form -fno-second-underscore -fPIC -O3 -funroll-loops\n",
      "Fortran f90 compiler: /opt/local/bin/gfortran -fopenmp -O3 -march=native -Wa,-q -fPIC -O3 -funroll-loops\n",
      "Fortran fix compiler: /opt/local/bin/gfortran -Wall -g -ffixed-form -fno-second-underscore -fopenmp -O3 -march=native -Wa,-q -fPIC -O3 -funroll-loops\u001b[0m\n",
      "\u001b[39mcompile options: '-DF2PY_REPORT_ON_ARRAY_COPY -I/var/folders/gy/jzn_973j06d35km7sz1xfw8r0000gn/T/tmpsyy6kvac/src.macosx-10.11-x86_64-3.4 -I/opt/local/Library/Frameworks/Python.framework/Versions/3.4/lib/python3.4/site-packages/numpy/core/include -I/opt/local/Library/Frameworks/Python.framework/Versions/3.4/include/python3.4m -c'\n",
      "extra options: '-J/var/folders/gy/jzn_973j06d35km7sz1xfw8r0000gn/T/tmpsyy6kvac/ -I/var/folders/gy/jzn_973j06d35km7sz1xfw8r0000gn/T/tmpsyy6kvac/'\u001b[0m\n",
      "\u001b[39mgfortran:f90: /var/folders/gy/jzn_973j06d35km7sz1xfw8r0000gn/T/tmpsyy6kvac/src.macosx-10.11-x86_64-3.4/advection-f2pywrappers2.f90\u001b[0m\n",
      "\u001b[39m/opt/local/bin/gfortran -Wall -g -Wall -g -undefined dynamic_lookup -bundle /var/folders/gy/jzn_973j06d35km7sz1xfw8r0000gn/T/tmpsyy6kvac/var/folders/gy/jzn_973j06d35km7sz1xfw8r0000gn/T/tmpsyy6kvac/src.macosx-10.11-x86_64-3.4/advectionmodule.o /var/folders/gy/jzn_973j06d35km7sz1xfw8r0000gn/T/tmpsyy6kvac/var/folders/gy/jzn_973j06d35km7sz1xfw8r0000gn/T/tmpsyy6kvac/src.macosx-10.11-x86_64-3.4/fortranobject.o /var/folders/gy/jzn_973j06d35km7sz1xfw8r0000gn/T/tmpsyy6kvac/advection.o /var/folders/gy/jzn_973j06d35km7sz1xfw8r0000gn/T/tmpsyy6kvac/var/folders/gy/jzn_973j06d35km7sz1xfw8r0000gn/T/tmpsyy6kvac/src.macosx-10.11-x86_64-3.4/advection-f2pywrappers2.o -L/opt/local/lib/gcc6/gcc/x86_64-apple-darwin15/6.4.0 -lgomp -lgfortran -o ./advection.so\u001b[0m\n",
      "Removing build directory /var/folders/gy/jzn_973j06d35km7sz1xfw8r0000gn/T/tmpsyy6kvac\n"
     ]
    }
   ],
   "source": [
    "# This compiles the fortran file and produces a python module\n",
    "!f2py-3.4 -DF2PY_REPORT_ON_ARRAY_COPY -c advection.f90 -m advection --f90flags='-fopenmp -O3 -march=native -Wa,-q' -lgomp"
   ]
  },
  {
   "cell_type": "code",
   "execution_count": 18,
   "metadata": {
    "collapsed": false
   },
   "outputs": [
    {
     "data": {
      "text/plain": [
       "<module 'advection' from '/Users/luque/projects/present/saint18/advection.so'>"
      ]
     },
     "execution_count": 18,
     "metadata": {},
     "output_type": "execute_result"
    }
   ],
   "source": [
    "import advection\n",
    "importlib.reload(advection)"
   ]
  },
  {
   "cell_type": "code",
   "execution_count": 19,
   "metadata": {
    "collapsed": false
   },
   "outputs": [
    {
     "name": "stdout",
     "output_type": "stream",
     "text": [
      "CPU times: user 2.05 s, sys: 840 ms, total: 2.89 s\n",
      "Wall time: 2.93 s\n"
     ]
    }
   ],
   "source": [
    "%%time\n",
    "advection.cmp.forward_euler_serial(dx, dt, c, u0, u.T)"
   ]
  },
  {
   "cell_type": "code",
   "execution_count": 20,
   "metadata": {
    "collapsed": false
   },
   "outputs": [
    {
     "name": "stdout",
     "output_type": "stream",
     "text": [
      "CPU times: user 2.54 s, sys: 90.1 ms, total: 2.63 s\n",
      "Wall time: 1.67 s\n"
     ]
    }
   ],
   "source": [
    "%%time\n",
    "advection.cmp.forward_euler_omp(dx, dt, c, u0, u.T)"
   ]
  },
  {
   "cell_type": "code",
   "execution_count": 21,
   "metadata": {
    "collapsed": false
   },
   "outputs": [
    {
     "name": "stdout",
     "output_type": "stream",
     "text": [
      "CPU times: user 1.82 s, sys: 16.9 ms, total: 1.84 s\n",
      "Wall time: 1.87 s\n"
     ]
    }
   ],
   "source": [
    "%%time\n",
    "advection.cmp.forward_euler_vector(dx, dt, c, u0, u.T)"
   ]
  },
  {
   "cell_type": "code",
   "execution_count": 22,
   "metadata": {
    "collapsed": false
   },
   "outputs": [
    {
     "data": {
      "image/png": "[encoded data removed]",
      "text/plain": [
       "<matplotlib.figure.Figure at 0x2020b0128>"
      ]
     },
     "metadata": {},
     "output_type": "display_data"
    }
   ],
   "source": [
    "for j in range(0, 500, 50):\n",
    "    plt.plot(xc, u[j, 1:-1], c='k', alpha=0.5)"
   ]
  },
  {
   "cell_type": "code",
   "execution_count": null,
   "metadata": {
    "collapsed": true
   },
   "outputs": [],
   "source": []
  }
 ],
 "metadata": {
  "kernelspec": {
   "display_name": "Python 3",
   "language": "python",
   "name": "python3"
  },
  "language_info": {
   "codemirror_mode": {
    "name": "ipython",
    "version": 3
   },
   "file_extension": ".py",
   "mimetype": "text/x-python",
   "name": "python",
   "nbconvert_exporter": "python",
   "pygments_lexer": "ipython3",
   "version": "3.4.7"
  }
 },
 "nbformat": 4,
 "nbformat_minor": 1
}
